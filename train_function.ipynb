{
  "nbformat": 4,
  "nbformat_minor": 0,
  "metadata": {
    "orig_nbformat": 2,
    "colab": {
      "name": "test_function.ipynb",
      "provenance": [],
      "collapsed_sections": [],
      "toc_visible": true,
      "include_colab_link": true
    },
    "language_info": {
      "name": "python",
      "version": "3.7.9-final"
    },
    "kernelspec": {
      "name": "python379jvsc74a57bd0573b163abfd58831e72b050d37d7e2a61d1ee1760178abfd5a7df61051af03db",
      "display_name": "Python 3.7.9 64-bit"
    }
  },
  "cells": [
    {
      "cell_type": "markdown",
      "metadata": {
        "id": "view-in-github",
        "colab_type": "text"
      },
      "source": [
        "<a href=\"https://colab.research.google.com/github/sonia1313/Face-Emotion-Recognition-Project/blob/main/test_function.ipynb\" target=\"_parent\"><img src=\"https://colab.research.google.com/assets/colab-badge.svg\" alt=\"Open In Colab\"/></a>"
      ]
    },
    {
      "cell_type": "markdown",
      "metadata": {
        "id": "XgjP_Lj6V5as"
      },
      "source": [
        "Mounting drive"
      ]
    },
    {
      "cell_type": "code",
      "metadata": {
        "id": "Ijaua_D1WtDN"
      },
      "source": [
        "%load_ext autoreload\n",
        "%autoreload 2"
      ],
      "execution_count": 1,
      "outputs": []
    },
    {
      "cell_type": "code",
      "metadata": {
        "id": "STgG4J-_eIsS"
      },
      "source": [
        "from data_loader import emotion"
      ],
      "execution_count": 2,
      "outputs": [
        {
          "output_type": "error",
          "ename": "ImportError",
          "evalue": "cannot import name 'emotion' from 'data_loader' (c:\\Users\\sonia\\OneDrive - City, University of London\\Year 3\\Term 2\\Computer Vision IN3060\\Face-Emotion-Recognition-Project\\data_loader.py)",
          "traceback": [
            "\u001b[1;31m---------------------------------------------------------------------------\u001b[0m",
            "\u001b[1;31mImportError\u001b[0m                               Traceback (most recent call last)",
            "\u001b[1;32m<ipython-input-2-8159d807a610>\u001b[0m in \u001b[0;36m<module>\u001b[1;34m\u001b[0m\n\u001b[1;32m----> 1\u001b[1;33m \u001b[1;32mfrom\u001b[0m \u001b[0mdata_loader\u001b[0m \u001b[1;32mimport\u001b[0m \u001b[0memotion\u001b[0m\u001b[1;33m\u001b[0m\u001b[1;33m\u001b[0m\u001b[0m\n\u001b[0m",
            "\u001b[1;31mImportError\u001b[0m: cannot import name 'emotion' from 'data_loader' (c:\\Users\\sonia\\OneDrive - City, University of London\\Year 3\\Term 2\\Computer Vision IN3060\\Face-Emotion-Recognition-Project\\data_loader.py)"
          ]
        }
      ]
    },
    {
      "source": [
        "https://dzone.com/articles/data-science-project-folder-structure"
      ],
      "cell_type": "markdown",
      "metadata": {}
    }
  ]
}